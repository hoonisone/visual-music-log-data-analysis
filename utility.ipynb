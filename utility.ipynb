{
 "cells": [
  {
   "cell_type": "markdown",
   "id": "fa80de24",
   "metadata": {},
   "source": [
    "# Utilitys"
   ]
  },
  {
   "cell_type": "code",
   "execution_count": 3,
   "id": "3c541a25",
   "metadata": {},
   "outputs": [
    {
     "data": {
      "text/plain": [
       "{'userId': '0',\n",
       " 'userName': 'Test',\n",
       " 'fromPitch': 'C3',\n",
       " 'toPitch': 'C4',\n",
       " 'volume': '0'}"
      ]
     },
     "execution_count": 3,
     "metadata": {},
     "output_type": "execute_result"
    }
   ],
   "source": [
    "def option_to_json(option):\n",
    "    option = option[1 : -1]\n",
    "    option = option.replace(' ','')\n",
    "    pair_list = option.split(\",\")\n",
    "    pair_list = [pair.split(\":\") for pair in pair_list]\n",
    "    data = {}\n",
    "    for key, value in pair_list:\n",
    "        data[key] = value\n",
    "    \n",
    "    return data\n",
    "\n",
    "# option = \"{userId:0, userName:Test, fromPitch:C3, toPitch:C4, volume:0}\"\n",
    "# option_to_json(option)"
   ]
  },
  {
   "cell_type": "code",
   "execution_count": 4,
   "id": "8efc2a5e",
   "metadata": {},
   "outputs": [],
   "source": [
    "class MusicManager:\n",
    "    name_list = [\"REST\", \"A0\", \"A0s\", \"B0\",\n",
    "        \"C1\", \"C1s\", \"D1\", \"D1s\", \"E1\", \"F1\", \"F1s\", \"G1\", \"G1s\", \"A1\", \"A1s\", \"B1\",\n",
    "        \"C2\", \"C2s\", \"D2\", \"D2s\", \"E2\", \"F2\", \"F2s\", \"G2\", \"G2s\", \"A2\", \"A2s\", \"B2\",\n",
    "        \"C3\", \"C3s\", \"D3\", \"D3s\", \"E3\", \"F3\", \"F3s\", \"G3\", \"G3s\", \"A3\", \"A3s\", \"B3\",\n",
    "        \"C4\", \"C4s\", \"D4\", \"D4s\", \"E4\", \"F4\", \"F4s\", \"G4\", \"G4s\", \"A4\", \"A4s\", \"B4\",\n",
    "        \"C5\", \"C5s\", \"D5\", \"D5s\", \"E5\", \"F5\", \"F5s\", \"G5\", \"G5s\", \"A5\", \"A5s\", \"B5\",\n",
    "        \"C6\", \"C6s\", \"D6\", \"D6s\", \"E6\", \"F6\", \"F6s\", \"G6\", \"G6s\", \"A6\", \"A6s\", \"B6\",\n",
    "        \"C7\", \"C7s\", \"D7\", \"D7s\", \"E7\", \"F7\", \"F7s\", \"G7\", \"G7s\", \"A7\", \"A7s\", \"B7\",\n",
    "        \"C8\"]\n",
    "    def to_int(name):\n",
    "        return MusicManager.name_list.index(name)"
   ]
  },
  {
   "cell_type": "code",
   "execution_count": null,
   "id": "f92cd215",
   "metadata": {},
   "outputs": [],
   "source": []
  }
 ],
 "metadata": {
  "kernelspec": {
   "display_name": "Python 3 (ipykernel)",
   "language": "python",
   "name": "python3"
  },
  "language_info": {
   "codemirror_mode": {
    "name": "ipython",
    "version": 3
   },
   "file_extension": ".py",
   "mimetype": "text/x-python",
   "name": "python",
   "nbconvert_exporter": "python",
   "pygments_lexer": "ipython3",
   "version": "3.9.12"
  }
 },
 "nbformat": 4,
 "nbformat_minor": 5
}
